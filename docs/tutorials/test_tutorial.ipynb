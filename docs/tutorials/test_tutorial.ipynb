{
 "cells": [
  {
   "cell_type": "markdown",
   "id": "521fc09b",
   "metadata": {},
   "source": [
    "# test notebook "
   ]
  },
  {
   "cell_type": "markdown",
   "id": "d53d7b64",
   "metadata": {},
   "source": [
    "We can write things about how to use the code"
   ]
  },
  {
   "cell_type": "code",
   "execution_count": 2,
   "id": "cd8cb179",
   "metadata": {},
   "outputs": [
    {
     "data": {
      "text/plain": [
       "4"
      ]
     },
     "execution_count": 2,
     "metadata": {},
     "output_type": "execute_result"
    }
   ],
   "source": [
    "2+2 "
   ]
  },
  {
   "cell_type": "markdown",
   "id": "f5983397",
   "metadata": {},
   "source": [
    "And insert code blocks demonstrating its usage"
   ]
  },
  {
   "cell_type": "code",
   "execution_count": null,
   "id": "5bbe8777",
   "metadata": {},
   "outputs": [],
   "source": []
  }
 ],
 "metadata": {
  "kernelspec": {
   "display_name": "Python 3 (ipykernel)",
   "language": "python",
   "name": "python3"
  },
  "language_info": {
   "codemirror_mode": {
    "name": "ipython",
    "version": 3
   },
   "file_extension": ".py",
   "mimetype": "text/x-python",
   "name": "python",
   "nbconvert_exporter": "python",
   "pygments_lexer": "ipython3",
   "version": "3.13.5"
  }
 },
 "nbformat": 4,
 "nbformat_minor": 5
}
